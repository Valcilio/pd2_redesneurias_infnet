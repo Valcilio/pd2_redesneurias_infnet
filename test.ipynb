{
 "cells": [
  {
   "cell_type": "markdown",
   "id": "ff440a4f",
   "metadata": {},
   "source": [
    "# Testing Code"
   ]
  },
  {
   "cell_type": "code",
   "execution_count": 1,
   "id": "99f3f478",
   "metadata": {},
   "outputs": [
    {
     "name": "stderr",
     "output_type": "stream",
     "text": [
      "c:\\Users\\aleli\\miniconda3\\envs\\ondad\\Lib\\site-packages\\tensorflow\\python\\keras\\engine\\training_arrays_v1.py:37: UserWarning: A NumPy version >=1.23.5 and <2.3.0 is required for this version of SciPy (detected version 2.3.3)\n",
      "  from scipy.sparse import issparse  # pylint: disable=g-import-not-at-top\n",
      "INFO:model_pipeline:Starting preprocessing\n"
     ]
    }
   ],
   "source": [
    "import pandas as pd\n",
    "from model_pipeline import ModelPipeline\n",
    "\n",
    "df = pd.DataFrame({\n",
    "    'close_price': [5.0],\n",
    "    'dividend_yield': [4.5],\n",
    "    'p/l': [10.0],\n",
    "    'p/vp': [1.5],\n",
    "    'margem_liquida': [15.0],\n",
    "    'divida_liq/ebit': [2.0],\n",
    "    'liquidez_corrente': [1.5],\n",
    "    'cagr_lucros_5_anos': [8.0],\n",
    "    'liquidez_diaria': [1.2],\n",
    "    'vpa': [3.0],\n",
    "    'lpa': [0.5],\n",
    "    'annual_dividend': [0.2],\n",
    "    'setor_atua': ['Financeiro'],\n",
    "    'subsetor_atua': ['Bancos'],\n",
    "    'segmento_atua': ['Banco Múltiplo']\n",
    "})\n",
    "\n",
    "df1 = ModelPipeline().preprocessing(df)"
   ]
  },
  {
   "cell_type": "code",
   "execution_count": 2,
   "id": "251412c8",
   "metadata": {},
   "outputs": [
    {
     "name": "stderr",
     "output_type": "stream",
     "text": [
      "INFO:model_pipeline:Loading model from model.keras\n",
      "c:\\Users\\aleli\\miniconda3\\envs\\ondad\\Lib\\site-packages\\keras\\src\\saving\\saving_lib.py:797: UserWarning: Skipping variable loading for optimizer 'rmsprop', because it has 8 variables whereas the saved optimizer has 20 variables. \n",
      "  saveable.load_own_variables(weights_store.get(inner_path))\n"
     ]
    },
    {
     "name": "stdout",
     "output_type": "stream",
     "text": [
      "\u001b[1m1/1\u001b[0m \u001b[32m━━━━━━━━━━━━━━━━━━━━\u001b[0m\u001b[37m\u001b[0m \u001b[1m0s\u001b[0m 58ms/step\n"
     ]
    },
    {
     "name": "stderr",
     "output_type": "stream",
     "text": [
      "INFO:model_pipeline:Normalizing predictions\n"
     ]
    }
   ],
   "source": [
    "model = ModelPipeline().predict(df1, 'model.keras')"
   ]
  },
  {
   "cell_type": "code",
   "execution_count": 3,
   "id": "7c3f2d24",
   "metadata": {},
   "outputs": [
    {
     "data": {
      "text/plain": [
       "0    578.027527\n",
       "Name: 0, dtype: float64"
      ]
     },
     "execution_count": 3,
     "metadata": {},
     "output_type": "execute_result"
    }
   ],
   "source": [
    "model"
   ]
  },
  {
   "cell_type": "markdown",
   "id": "602c3c4e",
   "metadata": {},
   "source": [
    "# Testing API"
   ]
  },
  {
   "cell_type": "code",
   "execution_count": 4,
   "id": "9cf78b0a",
   "metadata": {},
   "outputs": [],
   "source": [
    "df = pd.DataFrame({\n",
    "    'close_price': [5.0],\n",
    "    'dividend_yield': [4.5],\n",
    "    'p/l': [10.0],\n",
    "    'p/vp': [1.5],\n",
    "    'margem_liquida': [15.0],\n",
    "    'divida_liq/ebit': [2.0],\n",
    "    'liquidez_corrente': [1.5],\n",
    "    'cagr_lucros_5_anos': [8.0],\n",
    "    'liquidez_diaria': [1.2],\n",
    "    'vpa': [3.0],\n",
    "    'lpa': [0.5],\n",
    "    'annual_dividend': [0.2],\n",
    "    'setor_atua': ['Financeiro'],\n",
    "    'subsetor_atua': ['Bancos'],\n",
    "    'segmento_atua': ['Banco Múltiplo']\n",
    "})"
   ]
  },
  {
   "cell_type": "code",
   "execution_count": 5,
   "id": "2021d286",
   "metadata": {},
   "outputs": [],
   "source": [
    "json_df = df.to_json()"
   ]
  },
  {
   "cell_type": "code",
   "execution_count": 8,
   "id": "5248ce19",
   "metadata": {},
   "outputs": [
    {
     "name": "stdout",
     "output_type": "stream",
     "text": [
      "Status Code 200\n"
     ]
    }
   ],
   "source": [
    "import requests\n",
    "import json\n",
    "\n",
    "header = {'Content-type': 'application/json'}\n",
    "framework_data = {'data': json_df}\n",
    "framework_json = json.dumps(framework_data)\n",
    "response = requests.post('http://127.0.0.1:5000/predict', data=framework_json, headers=header)\n",
    "print( 'Status Code {}'.format( response.status_code ) )"
   ]
  },
  {
   "cell_type": "code",
   "execution_count": 9,
   "id": "3612b8bf",
   "metadata": {},
   "outputs": [
    {
     "data": {
      "text/plain": [
       "578"
      ]
     },
     "execution_count": 9,
     "metadata": {},
     "output_type": "execute_result"
    }
   ],
   "source": [
    "json.loads(response.content)['prediction']"
   ]
  }
 ],
 "metadata": {
  "kernelspec": {
   "display_name": "ondad",
   "language": "python",
   "name": "python3"
  },
  "language_info": {
   "codemirror_mode": {
    "name": "ipython",
    "version": 3
   },
   "file_extension": ".py",
   "mimetype": "text/x-python",
   "name": "python",
   "nbconvert_exporter": "python",
   "pygments_lexer": "ipython3",
   "version": "3.12.9"
  }
 },
 "nbformat": 4,
 "nbformat_minor": 5
}
